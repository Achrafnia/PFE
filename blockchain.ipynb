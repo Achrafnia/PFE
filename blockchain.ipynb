{
 "cells": [
  {
   "cell_type": "code",
   "execution_count": 1,
   "id": "heavy-format",
   "metadata": {},
   "outputs": [],
   "source": [
    "from hashlib import sha256\n",
    "import json\n",
    "import time"
   ]
  },
  {
   "cell_type": "code",
   "execution_count": 2,
   "id": "geological-dublin",
   "metadata": {},
   "outputs": [],
   "source": [
    "class Block:\n",
    "    def __init__(self, index, transactions, timestamp, previous_hash, nonce=0):\n",
    "        self.index = index\n",
    "        self.transactions = transactions\n",
    "        self.timestamp = timestamp\n",
    "        self.previous_hash = previous_hash\n",
    "        self.nonce = nonce\n",
    "\n",
    "    def compute_hash(self):\n",
    "        block_string = json.dumps(self.__dict__, sort_keys=True)\n",
    "        return sha256(block_string.encode()).hexdigest()"
   ]
  },
  {
   "cell_type": "code",
   "execution_count": 3,
   "id": "negative-harris",
   "metadata": {},
   "outputs": [],
   "source": [
    "class Blockchain:\n",
    "    # difficulty of our PoW algorithm\n",
    "    difficulty = 2\n",
    "\n",
    "    def __init__(self):\n",
    "        self.unconfirmed_transactions = []\n",
    "        self.chain = []\n",
    "        self.create_genesis_block()\n",
    "\n",
    "    def create_genesis_block(self):\n",
    "        \"\"\"\n",
    "        A function to generate genesis block and appends it to\n",
    "        the chain. The block has index 0, previous_hash as 0, and\n",
    "        a valid hash.\n",
    "        \"\"\"\n",
    "        genesis_block = Block(0, [], time.time(), \"0\")\n",
    "        genesis_block.hash = genesis_block.compute_hash()\n",
    "        self.chain.append(genesis_block)\n"
   ]
  },
  {
   "cell_type": "code",
   "execution_count": 6,
   "id": "careful-matrix",
   "metadata": {},
   "outputs": [],
   "source": [
    "@property\n",
    "def last_block(self):\n",
    "    return self.chain[-1]\n",
    "\n",
    "def add_block(self, block, proof):\n",
    "        \"\"\"\n",
    "        A function that adds the block to the chain after verification.\n",
    "        Verification includes:\n",
    "        * Checking if the proof is valid.\n",
    "        * The previous_hash referred in the block and the hash of latest block\n",
    "          in the chain match.\n",
    "        \"\"\"\n",
    "        previous_hash = self.last_block.hash\n",
    "\n",
    "        if previous_hash != block.previous_hash:\n",
    "            return False\n",
    "\n",
    "        if not self.is_valid_proof(block, proof):\n",
    "            return False\n",
    "\n",
    "        block.hash = proof\n",
    "        self.chain.append(block)\n",
    "        return True\n"
   ]
  },
  {
   "cell_type": "code",
   "execution_count": 7,
   "id": "fluid-reservation",
   "metadata": {},
   "outputs": [],
   "source": [
    "def is_valid_proof(self, block, block_hash):\n",
    "        \"\"\"\n",
    "        Check if block_hash is valid hash of block and satisfies\n",
    "        the difficulty criteria.\n",
    "        \"\"\"\n",
    "        return (block_hash.startswith('0' * Blockchain.difficulty) and\n",
    "                block_hash == block.compute_hash())\n"
   ]
  },
  {
   "cell_type": "code",
   "execution_count": 8,
   "id": "endless-arcade",
   "metadata": {},
   "outputs": [],
   "source": [
    "def proof_of_work(self, block):\n",
    "        \"\"\"\n",
    "        Function that tries different values of nonce to get a hash\n",
    "        that satisfies our difficulty criteria.\n",
    "        \"\"\"\n",
    "        block.nonce = 0\n",
    "\n",
    "        computed_hash = block.compute_hash()\n",
    "        while not computed_hash.startswith('0' * Blockchain.difficulty):\n",
    "            block.nonce += 1\n",
    "            computed_hash = block.compute_hash()\n",
    "\n",
    "        return computed_hash"
   ]
  },
  {
   "cell_type": "code",
   "execution_count": 9,
   "id": "sorted-width",
   "metadata": {},
   "outputs": [],
   "source": [
    "def add_new_transaction(self, transaction):\n",
    "        self.unconfirmed_transactions.append(transaction)\n"
   ]
  },
  {
   "cell_type": "code",
   "execution_count": 10,
   "id": "aging-generic",
   "metadata": {},
   "outputs": [],
   "source": [
    "def mine(self):\n",
    "        \"\"\"\n",
    "        This function serves as an interface to add the pending\n",
    "        transactions to the blockchain by adding them to the block\n",
    "        and figuring out Proof Of Work.\n",
    "        \"\"\"\n",
    "        if not self.unconfirmed_transactions:\n",
    "            return False\n",
    "\n",
    "        last_block = self.last_block\n",
    "\n",
    "        new_block = Block(index=last_block.index + 1,\n",
    "                          transactions=self.unconfirmed_transactions,\n",
    "                          timestamp=time.time(),\n",
    "                          previous_hash=last_block.hash)\n",
    "\n",
    "        proof = self.proof_of_work(new_block)\n",
    "        self.add_block(new_block, proof)\n",
    "\n",
    "        self.unconfirmed_transactions = []\n",
    "        return new_block.index\n"
   ]
  },
  {
   "cell_type": "code",
   "execution_count": null,
   "id": "forced-injection",
   "metadata": {},
   "outputs": [],
   "source": []
  }
 ],
 "metadata": {
  "kernelspec": {
   "display_name": "Python 3",
   "language": "python",
   "name": "python3"
  },
  "language_info": {
   "codemirror_mode": {
    "name": "ipython",
    "version": 3
   },
   "file_extension": ".py",
   "mimetype": "text/x-python",
   "name": "python",
   "nbconvert_exporter": "python",
   "pygments_lexer": "ipython3",
   "version": "3.9.5"
  }
 },
 "nbformat": 4,
 "nbformat_minor": 5
}
